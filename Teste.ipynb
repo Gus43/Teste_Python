{
  "nbformat": 4,
  "nbformat_minor": 0,
  "metadata": {
    "colab": {
      "name": "Untitled0.ipynb",
      "provenance": [],
      "authorship_tag": "ABX9TyMeuC1AvREs+2qmo6dlwb/U",
      "include_colab_link": true
    },
    "kernelspec": {
      "name": "python3",
      "display_name": "Python 3"
    }
  },
  "cells": [
    {
      "cell_type": "markdown",
      "metadata": {
        "id": "view-in-github",
        "colab_type": "text"
      },
      "source": [
        "<a href=\"https://colab.research.google.com/github/Gus43/Teste_Python/blob/main/Teste.ipynb\" target=\"_parent\"><img src=\"https://colab.research.google.com/assets/colab-badge.svg\" alt=\"Open In Colab\"/></a>"
      ]
    },
    {
      "cell_type": "code",
      "metadata": {
        "id": "JnZHhf4HgmUP"
      },
      "source": [
        "Autor: Gustavo Montes Machado\r\n",
        "Data: 19/12/2020"
      ],
      "execution_count": null,
      "outputs": []
    },
    {
      "cell_type": "markdown",
      "metadata": {
        "id": "8gN-jsgcw38a"
      },
      "source": [
        "# Teste de Python"
      ]
    },
    {
      "cell_type": "markdown",
      "metadata": {
        "id": "o5NY7iD2xAkQ"
      },
      "source": [
        "##**Questão 1:**\r\n",
        " Fazer um algoritmo para me dizer quantos numeros pares, multiplos de 49 e múltiplos de 37(simultaneamente , ou seja, o numero de satisfazer essas 3 condiçoes)existem no intervao de 1 a 5.000.000(5 Milhões)\r\n",
        "\r\n",
        "---\r\n",
        "\r\n"
      ]
    },
    {
      "cell_type": "code",
      "metadata": {
        "colab": {
          "base_uri": "https://localhost:8080/"
        },
        "id": "-gT2paQ11KmI",
        "outputId": "fc81115f-bd51-4ad4-8ad8-695095cd4a6a"
      },
      "source": [
        "n = 1                                               # variável dos numeros  ue irao cobrir o intervalo pedido                                             #variável que soma a\r\n",
        "lista = []                                          # criando a lista que vai armazenar os numeros que satisfazem as condiçoes \r\n",
        "while n <= 5000000:                                 # Criando um loop que acabará quando o n receber um valor maior que 5 milhoes\r\n",
        "  if n%2 ==0 and n%37 == 0 and n%49 == 0:           # testando se é par, se é divizivel por 37 e 49\r\n",
        "        lista.append(n)                             # satsfazendo, adicionar o numero n à lista\r\n",
        "                                     \r\n",
        "  n = n+1                                           # aumentando o n para o proximo numero , retornando para o loop\r\n",
        "    \r\n",
        "print(str(len(lista)) )                             # usando o len pra contar os elementos da lista\r\n",
        "#print(lista) para evitar sobrecarga nao executarei essa linha - exibindo a lista com todos os numeros"
      ],
      "execution_count": 77,
      "outputs": [
        {
          "output_type": "stream",
          "text": [
            "1378\n"
          ],
          "name": "stdout"
        }
      ]
    },
    {
      "cell_type": "markdown",
      "metadata": {
        "id": "IcJO6xalz1rd"
      },
      "source": [
        "## **Questão 2:** \r\n",
        "Fazer um algoritmo para criar um vetor x com 10 posiçoes começando pelo zero. A construçao desse vetor dará pela seguinte maneira \r\n",
        "\r\n",
        "Sendo \"$i$\" a posição do elemento dentro desse vetor v.\r\n",
        "\r\n",
        "Se a posiçao i for par, entao esse elemento na posição i do vetor x deverá ser alimentado da seguinte maneira\r\n",
        "\r\n",
        "\r\n",
        "\r\n",
        ">$$ X[i] = 3^i + 7*(i!)$$\r\n",
        "\r\n",
        "Lembrando que \"$i!$\" indica o fatorial da posição $i$\r\n",
        "\r\n",
        " Caso o $i$ seja um valor impar, então esse elemento na posicao $i$ do vetor x devera ser alimentado da seguinte maneira\r\n",
        "\r\n",
        ">$$ X[i] = 2^i + 4*ln(i)$$\r\n",
        "\r\n",
        " Lembrando que \"$ln(i)$\" indica o logaritmo neperiano do número $i$\r\n",
        "\r\n",
        "Alimentando esse vetor, deseja saber qual a **posição do maior elemento**  desse vetor e qual a **média dos elementos contidos nesse vetor(Arrednde o valor para 2 casas decimais)**. \r\n",
        "\r\n",
        "\r\n",
        "---\r\n",
        "\r\n",
        "\r\n",
        "\r\n",
        "\r\n"
      ]
    },
    {
      "cell_type": "code",
      "metadata": {
        "colab": {
          "base_uri": "https://localhost:8080/"
        },
        "id": "t-A4dI7O9Y4B",
        "outputId": "c9daee35-0d1e-4a6c-e48e-78531299c68b"
      },
      "source": [
        "import math as mt                                    # importando o math para usar as feraamentas de vetor a afins\r\n",
        "i = 0                                                \r\n",
        "v = []                                               # criando o vetor v\r\n",
        "for i in range (10):                                 # criando um loop que acabará antes de chegar no 10(de zero até 9 somando 10 elementos)\r\n",
        "    if i%2 == 0: \r\n",
        "      v.insert(i, 3**i + 7 * math.factorial(i))                                    # testando se a posiçao é par e sendo par, cria uma nova formula para posiçoes pares\r\n",
        "    else:                                            # não sendo par, cria uma nova fórmula para elementos em posições ímpares\r\n",
        "      v.insert(i, 2**i + 4 * mt.log(i))\r\n",
        "    i = i + 1                                        # aumentando o i para o proximo numero , retornando para o loop\r\n",
        "print(\"V =\",v)                                       # Printando o vetor\r\n",
        "print(\"\\nA posição do maior elemento do vetor é: \" + str(v.index(max(v))))\r\n",
        "print(\"\\nA média dos valores contidos nesse vetor é: \" + str(round(sum(v)/len(v),2)))"
      ],
      "execution_count": 78,
      "outputs": [
        {
          "output_type": "stream",
          "text": [
            "V = [8, 2.0, 23, 12.39444915467244, 249, 38.4377516497364, 5769, 135.78364059622126, 288801, 520.7888983093449]\n",
            "\n",
            "A posição do maior elemento do vetor é: 8\n",
            "\n",
            "A média dos valores contidos nesse vetor é: 29555.94\n"
          ],
          "name": "stdout"
        }
      ]
    },
    {
      "cell_type": "markdown",
      "metadata": {
        "id": "QyVAWx4Sz2ex"
      },
      "source": [
        "## **Questão 3:** \r\n",
        "Fazer um algoritmo que leia a nota de 5 alunos e uma nota para cada aluno.Guarde essas informaçoes em um dcionário e depois apresente o **aluno com a maior nota** e a **sua respectiva nota**\r\n",
        "\r\n",
        "---\r\n",
        "\r\n"
      ]
    },
    {
      "cell_type": "code",
      "metadata": {
        "colab": {
          "base_uri": "https://localhost:8080/"
        },
        "id": "qWP_MEHDU92O",
        "outputId": "a0fc388f-4007-4968-9264-b258326c7f2f"
      },
      "source": [
        "print(\"Caso necessário, separe as casas decimais utilizando ponto ao invés de vírgula!\\nE nao deixe caixa de nota vazia!\\n\") # Ressalvas para o funcionamento pleno do codigo\n",
        "notas = {\n",
        "        str(input(\"Insira o nome do Aluno 1: \")): float(input(\"Insira a nota do Aluno 1: \")),\n",
        "        str(input(\"\\nInsira o nome do Aluno 2: \")): float(input(\"Insira a nota do Aluno 2: \")),\n",
        "        str(input(\"\\nInsira o nome do Aluno 3: \")): float(input(\"Insira a nota do Aluno 3: \")),\n",
        "        str(input(\"\\nInsira o nome do Aluno 4: \")): float(input(\"Insira a nota do Aluno 4: \")),\n",
        "        str(input(\"\\nInsira o nome do Aluno 5: \")): float(input(\"Insira a nota do Aluno 5: \"))\n",
        "}                                                                                                                      # criando o dicionario com os comandos para receber as entradas\n",
        "   \n",
        "# printando todos os resultados \n",
        "print(\"\\nO aluno com maior nota foi: \" + str(max(notas, key=notas.get)))#Aqui ele printa o que se pede, o nome e a respectiva nota do aluno com a nota mais alta dentre todos.\n",
        "print(\"e sua nota foi: \" + str(float(notas[max(notas, key=notas.get)])))\n",
        "print(\"Notas = \",notas)"
      ],
      "execution_count": 80,
      "outputs": [
        {
          "output_type": "stream",
          "text": [
            "Caso necessário, separe as casas decimais utilizando ponto ao invés de vírgula!\n",
            "E nao deixe caixa de nota vazia!\n",
            "\n",
            "Insira o nome do Aluno 1: Fernanda Lima\n",
            "Insira a nota do Aluno 1: 7.3\n",
            "\n",
            "Insira o nome do Aluno 2: Larissa de Macedo\n",
            "Insira a nota do Aluno 2: 8\n",
            "\n",
            "Insira o nome do Aluno 3: Gustavo Machado\n",
            "Insira a nota do Aluno 3: 8.5\n",
            "\n",
            "Insira o nome do Aluno 4: Edward Snowden\n",
            "Insira a nota do Aluno 4: 10\n",
            "\n",
            "Insira o nome do Aluno 5: Jair Bolsonaro\n",
            "Insira a nota do Aluno 5: 0\n",
            "\n",
            "O aluno com maior nota foi: Edward Snowden\n",
            "e sua nota foi: 10.0\n",
            "Notas =  {'Fernanda Lima': 7.3, 'Larissa de Macedo': 8.0, 'Gustavo Machado': 8.5, 'Edward Snowden': 10.0, 'Jair Bolsonaro': 0.0}\n"
          ],
          "name": "stdout"
        }
      ]
    }
  ]
}